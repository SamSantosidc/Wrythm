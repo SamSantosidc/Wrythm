{
 "cells": [
  {
   "cell_type": "code",
   "execution_count": null,
   "id": "39cf5cef",
   "metadata": {},
   "outputs": [],
   "source": [
    "# 1. Importações\n",
    "import sys\n",
    "sys.path.append(\"../src\")  # para importar os módulos do src\n",
    "\n",
    "from main import audio_to_tab\n",
    "import IPython.display as ipd"
   ]
  },
  {
   "cell_type": "code",
   "execution_count": null,
   "id": "7f869ebc",
   "metadata": {},
   "outputs": [],
   "source": [
    "# 2. Escolher um áudio\n",
    "audio_path = \"../data/raw/teste.wav\"\n",
    "ipd.Audio(audio_path)  # player no notebook"
   ]
  },
  {
   "cell_type": "code",
   "execution_count": null,
   "id": "6c33a1a7",
   "metadata": {},
   "outputs": [],
   "source": [
    "# 3. Gerar tablatura\n",
    "tab = audio_to_tab(audio_path)\n",
    "print(\"Tablatura gerada:\\n\")\n",
    "print(tab)"
   ]
  }
 ],
 "metadata": {
  "kernelspec": {
   "display_name": "Python 3",
   "language": "python",
   "name": "python3"
  },
  "language_info": {
   "name": "python",
   "version": "3.12.3"
  }
 },
 "nbformat": 4,
 "nbformat_minor": 5
}
