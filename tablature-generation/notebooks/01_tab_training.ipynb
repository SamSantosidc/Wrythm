{
 "cells": [
  {
   "cell_type": "markdown",
   "id": "67e46784",
   "metadata": {},
   "source": [
    "Space exclusive for training modles to adjust tablature creation"
   ]
  },
  {
   "cell_type": "markdown",
   "id": "dbe3db50",
   "metadata": {},
   "source": [
    "# 1. Importações"
   ]
  },
  {
   "cell_type": "code",
   "execution_count": null,
   "id": "5ff69b75",
   "metadata": {
    "vscode": {
     "languageId": "plaintext"
    }
   },
   "outputs": [],
   "source": []
  },
  {
   "cell_type": "markdown",
   "id": "316c09ab",
   "metadata": {},
   "source": [
    "# 2. Carregar dataset (futuro: frequências anotadas com posições de tablatura)"
   ]
  },
  {
   "cell_type": "code",
   "execution_count": null,
   "id": "1ab955a4",
   "metadata": {
    "vscode": {
     "languageId": "plaintext"
    }
   },
   "outputs": [],
   "source": []
  },
  {
   "cell_type": "markdown",
   "id": "f26bf16c",
   "metadata": {},
   "source": [
    "# 3. Features e target"
   ]
  },
  {
   "cell_type": "code",
   "execution_count": null,
   "id": "34020e34",
   "metadata": {
    "vscode": {
     "languageId": "plaintext"
    }
   },
   "outputs": [],
   "source": []
  },
  {
   "cell_type": "markdown",
   "id": "b0ab269b",
   "metadata": {},
   "source": [
    "# 4. Treino baseline\n"
   ]
  },
  {
   "cell_type": "code",
   "execution_count": null,
   "id": "fb762a96",
   "metadata": {
    "vscode": {
     "languageId": "plaintext"
    }
   },
   "outputs": [],
   "source": []
  }
 ],
 "metadata": {
  "language_info": {
   "name": "python"
  }
 },
 "nbformat": 4,
 "nbformat_minor": 5
}
