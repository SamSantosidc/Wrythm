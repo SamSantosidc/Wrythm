{
 "cells": [
  {
   "cell_type": "markdown",
   "id": "099e3213",
   "metadata": {},
   "source": [
    "# Wrythm – Data Extraction and Dataset\n",
    "\n",
    "## Notebook Objective\n",
    "This notebook focuses primarily on:\n",
    "\n",
    "1. Extracting audio previews from Spotify / MusicBrainz.\n",
    "2. Extracting relevant musical features (MFCCs, BPM, rhythmic, melodic patterns, and key).\n",
    "3. Building a consolidated dataset in JSON format for future use in genre classification.\n",
    "4. Initial data exploration (EDA – exploratory data analysis).\n",
    "\n",
    "---\n",
    "\n",
    "## Pipeline \n",
    "\n",
    "### 1. Audio Collection\n",
    "- Use the Spotify API to download previews of tracks from different genres.\n",
    "- Store audio files in folders organized by genre (`data/previews/<genre>/`).\n",
    "\n",
    "### 2. Feature Extraction\n",
    "For each collected audio, extract:\n",
    "\n",
    "- **MFCCs**: mean and variance to capture timbre.\n",
    "- **BPM**: beats per minute (song tempo).\n",
    "- **Rhythmic Cell**: onset histogram divided into bins.\n",
    "- **Melodic Cell**: dominant notes per segment.\n",
    "- **Key**: estimated musical key.\n",
    "- **Duration**: audio duration in seconds.\n",
    "\n",
    "Features will be stored together with metadata in JSON format.\n",
    "\n",
    "### 3. Dataset Construction\n",
    "- Consolidate JSON files into a single folder (`data/metadata/`).\n",
    "- Ensure each record contains:\n",
    "  - Track identifier (Spotify ID)\n",
    "  - Track name and artists\n",
    "  - Audio file path\n",
    "  - Extracted features\n",
    "  - Genre(s)\n",
    "\n",
    "### 4. Initial Exploratory Analysis (EDA)\n",
    "- Count of tracks per genre.\n",
    "- Distribution of duration, BPM, and key.\n",
    "- Basic statistics of MFCCs and rhythmic patterns.\n",
    "- Check for consistency and possible missing data.\n"
   ]
  },
  {
   "cell_type": "markdown",
   "id": "6f501a27",
   "metadata": {},
   "source": [
    "# Development\n"
   ]
  },
  {
   "cell_type": "markdown",
   "id": "90c4745f",
   "metadata": {},
   "source": [
    "## Initial Setup: Imports and Preliminaries"
   ]
  },
  {
   "cell_type": "code",
   "execution_count": 4,
   "id": "d4c61506",
   "metadata": {},
   "outputs": [
    {
     "name": "stdout",
     "output_type": "stream",
     "text": [
      "Looking for .env at: c:\\Users\\Samue\\VSCode Projects\\Wrythm\\genre-classification\\notebooks\\..\\..\\.env\n",
      ".env exists? True\n",
      "SPOTIPY_CLIENT_ID = ae2d0b2723c24654841431b9e183af4e\n",
      "SPOTIPY_CLIENT_SECRET = 42b1a2a97e5743f58a62d3d23351ff9a\n",
      "Configurações iniciais carregadas com sucesso!\n"
     ]
    }
   ],
   "source": [
    "# Imports básicos e configuração de diretórios\n",
    "import os\n",
    "import sys\n",
    "from pathlib import Path\n",
    "import glob\n",
    "import json\n",
    "\n",
    "# Bibliotecas de análise de dados \n",
    "import pandas as pd\n",
    "import numpy as np\n",
    "\n",
    "# Bibliotecas de áudio\n",
    "import librosa\n",
    "import soundfile as sf\n",
    "\n",
    "# Bibliotecas de visualização\n",
    "import matplotlib.pyplot as plt\n",
    "import seaborn as sns\n",
    "\n",
    "# Configurações gerais\n",
    "pd.set_option('display.max_columns', None)\n",
    "sns.set(style=\"whitegrid\")\n",
    "\n",
    "# Adiciona pasta src ao Python Path\n",
    "src_path = Path(\"../src\").resolve()\n",
    "if str(src_path) not in sys.path:\n",
    "    sys.path.append(str(src_path))\n",
    "\n",
    "# Diretórios principais\n",
    "PREVIEWS_ROOT = \"../data/previews\"\n",
    "META_ROOT     = \"../data/metadata\"\n",
    "\n",
    "# Cria os diretórios se não existirem\n",
    "Path(PREVIEWS_ROOT).mkdir(parents=True, exist_ok=True)\n",
    "Path(META_ROOT).mkdir(parents=True, exist_ok=True)\n",
    "\n",
    "# Variáveis de ambiente (Spotify)\n",
    "\n",
    "# Carrega as variáveis de ambiente do .env\n",
    "from dotenv import load_dotenv\n",
    "\n",
    "# Ajuste o caminho do .env de acordo com a posição do notebook\n",
    "dotenv_path = Path(os.getcwd()) / \"../../.env\"\n",
    "print(\"Looking for .env at:\", dotenv_path)\n",
    "print(\".env exists?\", dotenv_path.exists())\n",
    "\n",
    "# Carrega o .env\n",
    "load_dotenv(dotenv_path.resolve())\n",
    "\n",
    "# Testa se as variáveis foram carregadas\n",
    "print(\"SPOTIPY_CLIENT_ID =\", os.getenv(\"SPOTIPY_CLIENT_ID\"))\n",
    "print(\"SPOTIPY_CLIENT_SECRET =\", os.getenv(\"SPOTIPY_CLIENT_SECRET\"))\n",
    "\n",
    "#Import dos módulos que dependem do Spotify\n",
    "\n",
    "# Configuração do cliente Spotify\n",
    "from dataset_builder import process_track_and_write_metadata, sp\n",
    "\n",
    "print(\"Configurações iniciais carregadas com sucesso!\")\n"
   ]
  }
 ],
 "metadata": {
  "kernelspec": {
   "display_name": "Python 3",
   "language": "python",
   "name": "python3"
  },
  "language_info": {
   "codemirror_mode": {
    "name": "ipython",
    "version": 3
   },
   "file_extension": ".py",
   "mimetype": "text/x-python",
   "name": "python",
   "nbconvert_exporter": "python",
   "pygments_lexer": "ipython3",
   "version": "3.12.3"
  }
 },
 "nbformat": 4,
 "nbformat_minor": 5
}
