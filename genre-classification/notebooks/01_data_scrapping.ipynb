{
 "cells": [
  {
   "cell_type": "markdown",
   "id": "099e3213",
   "metadata": {},
   "source": [
    "# Wrythm – Extração de Dados e Dataset\n",
    "\n",
    "## Objetivo do Notebook\n",
    "Este notebook tem como foco principal:\n",
    "\n",
    "1. Extração de previews de áudio do Spotify / MusicBrainz.\n",
    "2. Extração de features musicais relevantes (MFCCs, BPM, padrões rítmicos, melódicos e tom).\n",
    "3. Montagem de um dataset consolidado em formato JSON para uso futuro em classificação de gêneros.\n",
    "4. Exploração inicial dos dados (EDA – análise exploratória).\n",
    "\n",
    "---\n",
    "\n",
    "## Etapas do Pipeline\n",
    "\n",
    "### 1. Coleta de Áudios\n",
    "- Usar Spotify API para baixar previews de faixas de diferentes gêneros.\n",
    "- Armazenar arquivos de áudio em pastas organizadas por gênero (`data/previews/<genero>/`).\n",
    "\n",
    "### 2. Extração de Features\n",
    "Para cada áudio coletado, extrair:\n",
    "\n",
    "- **MFCCs**: mean e variance para capturar timbre.\n",
    "- **BPM**: batidas por minuto (tempo da música).\n",
    "- **Rhythmic Cell**: histograma de ataques (onsets) dividido em bins.\n",
    "- **Melodic Cell**: notas dominantes por segmento.\n",
    "- **Key**: estimativa do tom da música.\n",
    "- **Duration**: duração do áudio em segundos.\n",
    "\n",
    "As features serão armazenadas junto com metadados em JSON.\n",
    "\n",
    "### 3. Montagem do Dataset\n",
    "- Consolidar os arquivos JSON em uma única pasta (`data/metadata/`).\n",
    "- Garantir que cada registro contenha:\n",
    "  - Identificador da faixa (Spotify ID)\n",
    "  - Nome e artistas\n",
    "  - Caminho do arquivo de áudio\n",
    "  - Features extraídas\n",
    "  - Gênero(s)\n",
    "\n",
    "### 4. Análise Exploratória Inicial (EDA)\n",
    "- Contagem de faixas por gênero.\n",
    "- Distribuição de duração, BPM e key.\n",
    "- Estatísticas básicas de MFCCs e padrões rítmicos.\n",
    "- Verificar consistência e possíveis dados faltantes.\n"
   ]
  },
  {
   "cell_type": "markdown",
   "id": "6f501a27",
   "metadata": {},
   "source": [
    "# Desenvolvimento:"
   ]
  },
  {
   "cell_type": "markdown",
   "id": "90c4745f",
   "metadata": {},
   "source": [
    "## Configurações iniciais: Imports e pré-estabelecimentos"
   ]
  },
  {
   "cell_type": "code",
   "execution_count": 2,
   "id": "d4c61506",
   "metadata": {},
   "outputs": [
    {
     "name": "stdout",
     "output_type": "stream",
     "text": [
      "SPOTIPY_CLIENT_ID = None\n",
      "SPOTIPY_CLIENT_SECRET = None\n"
     ]
    },
    {
     "ename": "RuntimeError",
     "evalue": "Set SPOTIPY_CLIENT_ID and SPOTIPY_CLIENT_SECRET in env vars",
     "output_type": "error",
     "traceback": [
      "\u001b[31m---------------------------------------------------------------------------\u001b[39m",
      "\u001b[31mRuntimeError\u001b[39m                              Traceback (most recent call last)",
      "\u001b[36mCell\u001b[39m\u001b[36m \u001b[39m\u001b[32mIn[2]\u001b[39m\u001b[32m, line 55\u001b[39m\n\u001b[32m     52\u001b[39m \u001b[38;5;28mprint\u001b[39m(\u001b[33m\"\u001b[39m\u001b[33mSPOTIPY_CLIENT_SECRET =\u001b[39m\u001b[33m\"\u001b[39m, os.getenv(\u001b[33m\"\u001b[39m\u001b[33mSPOTIPY_CLIENT_SECRET\u001b[39m\u001b[33m\"\u001b[39m))\n\u001b[32m     54\u001b[39m \u001b[38;5;66;03m# Import dos módulos personalizados\u001b[39;00m\n\u001b[32m---> \u001b[39m\u001b[32m55\u001b[39m \u001b[38;5;28;01mfrom\u001b[39;00m\u001b[38;5;250m \u001b[39m\u001b[34;01mdataset_builder\u001b[39;00m\u001b[38;5;250m \u001b[39m\u001b[38;5;28;01mimport\u001b[39;00m process_track_and_write_metadata, sp\n\u001b[32m     57\u001b[39m \u001b[38;5;28mprint\u001b[39m(\u001b[33m\"\u001b[39m\u001b[33mConfigurações iniciais carregadas com sucesso!\u001b[39m\u001b[33m\"\u001b[39m)\n",
      "\u001b[36mFile \u001b[39m\u001b[32m~\\VSCode Projects\\Wrythm\\genre-classification\\src\\dataset_builder.py:5\u001b[39m\n\u001b[32m      3\u001b[39m \u001b[38;5;28;01mimport\u001b[39;00m\u001b[38;5;250m \u001b[39m\u001b[34;01mlibrosa\u001b[39;00m\n\u001b[32m      4\u001b[39m \u001b[38;5;28;01mfrom\u001b[39;00m\u001b[38;5;250m \u001b[39m\u001b[34;01mpathlib\u001b[39;00m\u001b[38;5;250m \u001b[39m\u001b[38;5;28;01mimport\u001b[39;00m Path\n\u001b[32m----> \u001b[39m\u001b[32m5\u001b[39m \u001b[38;5;28;01mfrom\u001b[39;00m\u001b[38;5;250m \u001b[39m\u001b[34;01mspotify_setup\u001b[39;00m\u001b[38;5;250m \u001b[39m\u001b[38;5;28;01mimport\u001b[39;00m sp  \u001b[38;5;66;03m# client pessoal (Informações ocultadas na .env)\u001b[39;00m\n\u001b[32m      7\u001b[39m \u001b[38;5;28;01mdef\u001b[39;00m\u001b[38;5;250m \u001b[39m\u001b[34msafe_filename\u001b[39m(s):\n\u001b[32m      8\u001b[39m     \u001b[38;5;28;01mreturn\u001b[39;00m \u001b[33m\"\u001b[39m\u001b[33m\"\u001b[39m.join(c \u001b[38;5;28;01mif\u001b[39;00m c.isalnum() \u001b[38;5;129;01mor\u001b[39;00m c \u001b[38;5;129;01min\u001b[39;00m \u001b[33m\"\u001b[39m\u001b[33m._-\u001b[39m\u001b[33m\"\u001b[39m \u001b[38;5;28;01melse\u001b[39;00m \u001b[33m\"\u001b[39m\u001b[33m_\u001b[39m\u001b[33m\"\u001b[39m \u001b[38;5;28;01mfor\u001b[39;00m c \u001b[38;5;129;01min\u001b[39;00m s)[:\u001b[32m200\u001b[39m]\n",
      "\u001b[36mFile \u001b[39m\u001b[32m~\\VSCode Projects\\Wrythm\\genre-classification\\src\\spotify_setup.py:24\u001b[39m\n\u001b[32m     21\u001b[39m     \u001b[38;5;28;01mreturn\u001b[39;00m Spotify(auth_manager=auth_manager, requests_timeout=\u001b[32m10\u001b[39m, retries=\u001b[32m2\u001b[39m)\n\u001b[32m     23\u001b[39m \u001b[38;5;66;03m# Instância criada automaticamente ao importar\u001b[39;00m\n\u001b[32m---> \u001b[39m\u001b[32m24\u001b[39m sp = \u001b[43mcreate_spotify_client\u001b[49m\u001b[43m(\u001b[49m\u001b[43m)\u001b[49m\n",
      "\u001b[36mFile \u001b[39m\u001b[32m~\\VSCode Projects\\Wrythm\\genre-classification\\src\\spotify_setup.py:14\u001b[39m, in \u001b[36mcreate_spotify_client\u001b[39m\u001b[34m()\u001b[39m\n\u001b[32m     11\u001b[39m client_secret = os.getenv(\u001b[33m\"\u001b[39m\u001b[33mSPOTIPY_CLIENT_SECRET\u001b[39m\u001b[33m\"\u001b[39m)\n\u001b[32m     13\u001b[39m \u001b[38;5;28;01mif\u001b[39;00m \u001b[38;5;129;01mnot\u001b[39;00m client_id \u001b[38;5;129;01mor\u001b[39;00m \u001b[38;5;129;01mnot\u001b[39;00m client_secret:\n\u001b[32m---> \u001b[39m\u001b[32m14\u001b[39m     \u001b[38;5;28;01mraise\u001b[39;00m \u001b[38;5;167;01mRuntimeError\u001b[39;00m(\u001b[33m\"\u001b[39m\u001b[33mSet SPOTIPY_CLIENT_ID and SPOTIPY_CLIENT_SECRET in env vars\u001b[39m\u001b[33m\"\u001b[39m)\n\u001b[32m     16\u001b[39m auth_manager = SpotifyClientCredentials(\n\u001b[32m     17\u001b[39m     client_id=client_id,\n\u001b[32m     18\u001b[39m     client_secret=client_secret\n\u001b[32m     19\u001b[39m )\n\u001b[32m     21\u001b[39m \u001b[38;5;28;01mreturn\u001b[39;00m Spotify(auth_manager=auth_manager, requests_timeout=\u001b[32m10\u001b[39m, retries=\u001b[32m2\u001b[39m)\n",
      "\u001b[31mRuntimeError\u001b[39m: Set SPOTIPY_CLIENT_ID and SPOTIPY_CLIENT_SECRET in env vars"
     ]
    }
   ],
   "source": [
    "# Imports e configuração inicial\n",
    "\n",
    "# Manipulação de arquivos e diretórios\n",
    "import os\n",
    "from pathlib import Path\n",
    "import glob\n",
    "import json\n",
    "import sys\n",
    "\n",
    "\n",
    "# Manipulação de dados\n",
    "import pandas as pd\n",
    "import numpy as np\n",
    "\n",
    "\n",
    "# Áudio e extração de features\n",
    "import librosa\n",
    "import soundfile as sf\n",
    "\n",
    "\n",
    "# Visualização\n",
    "import matplotlib.pyplot as plt\n",
    "import seaborn as sns\n",
    "\n",
    "\n",
    "# Configurações gerais\n",
    "pd.set_option('display.max_columns', None)\n",
    "sns.set(style=\"whitegrid\")\n",
    "\n",
    "\n",
    "# Adiciona src ao Python Path\n",
    "src_path = Path(\"../src\").resolve()\n",
    "if str(src_path) not in sys.path:\n",
    "    sys.path.append(str(src_path))\n",
    "\n",
    "\n",
    "# Diretórios principais\n",
    "PREVIEWS_ROOT = \"../data/previews\"   # Onde os previews de áudio serão salvos\n",
    "META_ROOT     = \"../data/metadata\"   # Onde os JSONs com metadados e features serão salvos\n",
    "\n",
    "# Criar diretórios caso não existam\n",
    "Path(PREVIEWS_ROOT).mkdir(parents=True, exist_ok=True)\n",
    "Path(META_ROOT).mkdir(parents=True, exist_ok=True)\n",
    "\n",
    "# Variáveis de ambiente (Spotify)\n",
    "from dotenv import load_dotenv\n",
    "dotenv_path = Path(\"../../.env\").resolve()\n",
    "load_dotenv(dotenv_path)  # Carrega variáveis do .env\n",
    "\n",
    "# Testa se as credenciais estão carregadas corretamente\n",
    "print(\"SPOTIPY_CLIENT_ID =\", os.getenv(\"SPOTIPY_CLIENT_ID\"))\n",
    "print(\"SPOTIPY_CLIENT_SECRET =\", os.getenv(\"SPOTIPY_CLIENT_SECRET\"))\n",
    "\n",
    "# Import dos módulos personalizados\n",
    "from dataset_builder import process_track_and_write_metadata, sp\n",
    "\n",
    "print(\"Configurações iniciais carregadas com sucesso!\")\n"
   ]
  }
 ],
 "metadata": {
  "kernelspec": {
   "display_name": "Python 3",
   "language": "python",
   "name": "python3"
  },
  "language_info": {
   "codemirror_mode": {
    "name": "ipython",
    "version": 3
   },
   "file_extension": ".py",
   "mimetype": "text/x-python",
   "name": "python",
   "nbconvert_exporter": "python",
   "pygments_lexer": "ipython3",
   "version": "3.12.3"
  }
 },
 "nbformat": 4,
 "nbformat_minor": 5
}
