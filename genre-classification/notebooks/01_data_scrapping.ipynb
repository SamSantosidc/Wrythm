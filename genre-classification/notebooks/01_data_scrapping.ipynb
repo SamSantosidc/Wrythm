{
 "cells": [
  {
   "cell_type": "markdown",
   "id": "099e3213",
   "metadata": {},
   "source": [
    "# Wrythm – Data Extraction and Dataset\n",
    "\n",
    "## Notebook Objective\n",
    "This notebook focuses primarily on:\n",
    "\n",
    "1. Extracting audio.\n",
    "2. Extracting relevant musical features (MFCCs, BPM, rhythmic, melodic patterns, and key).\n",
    "3. Building a consolidated dataset in JSON format for future use in genre classification.\n",
    "4. Initial data exploration (EDA – exploratory data analysis).\n",
    "\n",
    "---\n",
    "\n",
    "## Pipeline \n",
    "\n",
    "### 1. Audio Collection\n",
    "- \n",
    "- \n",
    "\n",
    "### 2. Feature Extraction\n",
    "For each collected audio, extract:\n",
    "\n",
    "- **MFCCs**: mean and variance to capture timbre.\n",
    "- **BPM**: beats per minute (song tempo).\n",
    "- **Rhythmic Cell**: onset histogram divided into bins.\n",
    "- **Melodic Cell**: dominant notes per segment.\n",
    "- **Key**: estimated musical key.\n",
    "- **Duration**: audio duration in seconds.\n",
    "\n",
    "Features will be stored together with metadata in JSON format.\n",
    "\n",
    "### 3. Dataset Construction\n",
    "- Consolidate JSON files into a single folder (`data/metadata/`).\n",
    "- Ensure each record contains:\n",
    "  - Track identifier (Spotify ID)\n",
    "  - Track name and artists\n",
    "  - Audio file path\n",
    "  - Extracted features\n",
    "  - Genre(s)\n",
    "\n",
    "### 4. Initial Exploratory Analysis (EDA)\n",
    "- Count of tracks per genre.\n",
    "- Distribution of duration, BPM, and key.\n",
    "- Basic statistics of MFCCs and rhythmic patterns.\n",
    "- Check for consistency and possible missing data.\n"
   ]
  },
  {
   "cell_type": "markdown",
   "id": "6f501a27",
   "metadata": {},
   "source": [
    "# Development\n"
   ]
  },
  {
   "cell_type": "markdown",
   "id": "90c4745f",
   "metadata": {},
   "source": [
    "## 1 - Initial Setup: Imports and Preliminaries"
   ]
  },
  {
   "cell_type": "code",
   "execution_count": null,
   "id": "300dddff",
   "metadata": {},
   "outputs": [],
   "source": []
  },
  {
   "cell_type": "markdown",
   "id": "9f213ad0",
   "metadata": {},
   "source": [
    "## 2 - Data Collection & Feature Extraction\n"
   ]
  },
  {
   "cell_type": "code",
   "execution_count": null,
   "id": "c562a891",
   "metadata": {},
   "outputs": [],
   "source": []
  }
 ],
 "metadata": {
  "kernelspec": {
   "display_name": "Python 3",
   "language": "python",
   "name": "python3"
  },
  "language_info": {
   "codemirror_mode": {
    "name": "ipython",
    "version": 3
   },
   "file_extension": ".py",
   "mimetype": "text/x-python",
   "name": "python",
   "nbconvert_exporter": "python",
   "pygments_lexer": "ipython3",
   "version": "3.12.3"
  }
 },
 "nbformat": 4,
 "nbformat_minor": 5
}
