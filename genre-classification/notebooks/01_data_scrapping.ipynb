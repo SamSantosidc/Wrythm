{
 "cells": [
  {
   "cell_type": "markdown",
   "id": "099e3213",
   "metadata": {},
   "source": [
    "# Wrythm – Extração de Dados e Dataset\n",
    "\n",
    "## Objetivo do Notebook\n",
    "Este notebook tem como foco principal:\n",
    "\n",
    "1. Extração de previews de áudio do Spotify / MusicBrainz.\n",
    "2. Extração de features musicais relevantes (MFCCs, BPM, padrões rítmicos, melódicos e tom).\n",
    "3. Montagem de um dataset consolidado em formato JSON para uso futuro em classificação de gêneros.\n",
    "4. Exploração inicial dos dados (EDA – análise exploratória).\n",
    "\n",
    "---\n",
    "\n",
    "## Etapas do Pipeline\n",
    "\n",
    "### 1. Coleta de Áudios\n",
    "- Usar Spotify API para baixar previews de faixas de diferentes gêneros.\n",
    "- Armazenar arquivos de áudio em pastas organizadas por gênero (`data/previews/<genero>/`).\n",
    "\n",
    "### 2. Extração de Features\n",
    "Para cada áudio coletado, extrair:\n",
    "\n",
    "- **MFCCs**: mean e variance para capturar timbre.\n",
    "- **BPM**: batidas por minuto (tempo da música).\n",
    "- **Rhythmic Cell**: histograma de ataques (onsets) dividido em bins.\n",
    "- **Melodic Cell**: notas dominantes por segmento.\n",
    "- **Key**: estimativa do tom da música.\n",
    "- **Duration**: duração do áudio em segundos.\n",
    "\n",
    "As features serão armazenadas junto com metadados em JSON.\n",
    "\n",
    "### 3. Montagem do Dataset\n",
    "- Consolidar os arquivos JSON em uma única pasta (`data/metadata/`).\n",
    "- Garantir que cada registro contenha:\n",
    "  - Identificador da faixa (Spotify ID)\n",
    "  - Nome e artistas\n",
    "  - Caminho do arquivo de áudio\n",
    "  - Features extraídas\n",
    "  - Gênero(s)\n",
    "\n",
    "### 4. Análise Exploratória Inicial (EDA)\n",
    "- Contagem de faixas por gênero.\n",
    "- Distribuição de duração, BPM e key.\n",
    "- Estatísticas básicas de MFCCs e padrões rítmicos.\n",
    "- Verificar consistência e possíveis dados faltantes.\n"
   ]
  },
  {
   "cell_type": "markdown",
   "id": "6f501a27",
   "metadata": {},
   "source": [
    "# Desenvolvimento:"
   ]
  },
  {
   "cell_type": "markdown",
   "id": "90c4745f",
   "metadata": {},
   "source": [
    "## Configurações iniciais: Imports e pré-estabelecimentos"
   ]
  },
  {
   "cell_type": "code",
   "execution_count": null,
   "id": "d4c61506",
   "metadata": {},
   "outputs": [
    {
     "ename": "ModuleNotFoundError",
     "evalue": "No module named 'dataset_builder'",
     "output_type": "error",
     "traceback": [
      "\u001b[31m---------------------------------------------------------------------------\u001b[39m",
      "\u001b[31mModuleNotFoundError\u001b[39m                       Traceback (most recent call last)",
      "\u001b[36mCell\u001b[39m\u001b[36m \u001b[39m\u001b[32mIn[4]\u001b[39m\u001b[32m, line 21\u001b[39m\n\u001b[32m     19\u001b[39m \u001b[38;5;28;01mimport\u001b[39;00m\u001b[38;5;250m \u001b[39m\u001b[34;01mlibrosa\u001b[39;00m\n\u001b[32m     20\u001b[39m \u001b[38;5;28;01mimport\u001b[39;00m\u001b[38;5;250m \u001b[39m\u001b[34;01msoundfile\u001b[39;00m\u001b[38;5;250m \u001b[39m\u001b[38;5;28;01mas\u001b[39;00m\u001b[38;5;250m \u001b[39m\u001b[34;01msf\u001b[39;00m\n\u001b[32m---> \u001b[39m\u001b[32m21\u001b[39m \u001b[38;5;28;01mfrom\u001b[39;00m\u001b[38;5;250m \u001b[39m\u001b[34;01mdataset_builder\u001b[39;00m\u001b[38;5;250m \u001b[39m\u001b[38;5;28;01mimport\u001b[39;00m process_track_and_write_metadata, sp \u001b[38;5;66;03m# Funções personalizadas para extrair features do Spotify\u001b[39;00m\n\u001b[32m     23\u001b[39m \u001b[38;5;66;03m# Visualização (para futuras análises) \u001b[39;00m\n\u001b[32m     24\u001b[39m \u001b[38;5;28;01mimport\u001b[39;00m\u001b[38;5;250m \u001b[39m\u001b[34;01mmatplotlib\u001b[39;00m\u001b[34;01m.\u001b[39;00m\u001b[34;01mpyplot\u001b[39;00m\u001b[38;5;250m \u001b[39m\u001b[38;5;28;01mas\u001b[39;00m\u001b[38;5;250m \u001b[39m\u001b[34;01mplt\u001b[39;00m\n",
      "\u001b[31mModuleNotFoundError\u001b[39m: No module named 'dataset_builder'"
     ]
    }
   ],
   "source": [
    "# Manipulação de arquivos e diretórios\n",
    "import os\n",
    "from pathlib import Path\n",
    "import glob\n",
    "import json\n",
    "\n",
    "# Manipulação de dados\n",
    "import pandas as pd\n",
    "import numpy as np\n",
    "\n",
    "# Import robusto do dataset_builder\n",
    "import importlib.util\n",
    "\n",
    "# Caminho do arquivo dataset_builder.py (ajuste se estiver em outra pasta)\n",
    "module_path = Path(\"src/dataset_builder.py\").resolve()  \n",
    "\n",
    "spec = importlib.util.spec_from_file_location(\"dataset_builder\", str(module_path))\n",
    "dataset_builder = importlib.util.module_from_spec(spec)\n",
    "spec.loader.exec_module(dataset_builder)\n",
    "\n",
    "# Funções e variáveis principais do módulo\n",
    "process_track_and_write_metadata = dataset_builder.process_track_and_write_metadata\n",
    "sp = dataset_builder.sp\n",
    "\n",
    "# Biblioteca de áudio e extração de features\n",
    "import librosa\n",
    "import soundfile as sf\n",
    "\n",
    "# Visualização (para futuras análises)\n",
    "import matplotlib.pyplot as plt\n",
    "import seaborn as sns\n",
    "\n",
    "# Configurações gerais\n",
    "pd.set_option('display.max_columns', None)\n",
    "sns.set(style=\"whitegrid\")\n",
    "\n",
    "# Diretórios dos dados\n",
    "PREVIEWS_ROOT = \"data/previews\"   # Onde os previews de áudio serão salvos\n",
    "META_ROOT     = \"data/metadata\"   # Onde os JSONs com metadados e features serão salvos\n",
    "\n",
    "# Criar diretórios caso não existam\n",
    "Path(PREVIEWS_ROOT).mkdir(parents=True, exist_ok=True)\n",
    "Path(META_ROOT).mkdir(parents=True, exist_ok=True)\n",
    "\n",
    "print(\"Configurações iniciais carregadas com sucesso!\")"
   ]
  }
 ],
 "metadata": {
  "kernelspec": {
   "display_name": "Python 3",
   "language": "python",
   "name": "python3"
  },
  "language_info": {
   "codemirror_mode": {
    "name": "ipython",
    "version": 3
   },
   "file_extension": ".py",
   "mimetype": "text/x-python",
   "name": "python",
   "nbconvert_exporter": "python",
   "pygments_lexer": "ipython3",
   "version": "3.12.3"
  }
 },
 "nbformat": 4,
 "nbformat_minor": 5
}
